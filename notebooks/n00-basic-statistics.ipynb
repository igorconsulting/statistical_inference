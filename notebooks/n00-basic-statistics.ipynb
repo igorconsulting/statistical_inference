{
 "cells": [
  {
   "cell_type": "markdown",
   "metadata": {},
   "source": [
    "# Central Tendency Measures"
   ]
  },
  {
   "cell_type": "code",
   "execution_count": 1,
   "metadata": {},
   "outputs": [
    {
     "name": "stdout",
     "output_type": "stream",
     "text": [
      "Skewness of X: -0.04324326612466689, Kurtosis of X: -0.004455827531677059\n",
      "Skewness of Y: 1.0019964821564415, Kurtosis of Y: 2.498707597620439\n",
      "Skewness of Z: -0.5610749356340561, Kurtosis of Z: 0.6365474513162726\n"
     ]
    }
   ],
   "source": [
    "import numpy as np\n",
    "from scipy.stats import skew, kurtosis\n",
    "\n",
    "# Suppose we have three datasets\n",
    "X = np.random.normal(0, 1, 1000)\n",
    "Y = np.random.normal(0, 1, 1000) + np.random.exponential(1, 1000)\n",
    "Z = np.random.normal(0, 1, 1000) - np.random.exponential(1, 1000)\n",
    "\n",
    "# Calculate skewness\n",
    "skew_X = skew(X)\n",
    "skew_Y = skew(Y)\n",
    "skew_Z = skew(Z)\n",
    "\n",
    "# Calculate kurtosis\n",
    "kurt_X = kurtosis(X)\n",
    "kurt_Y = kurtosis(Y)\n",
    "kurt_Z = kurtosis(Z)\n",
    "\n",
    "print(f'Skewness of X: {skew_X}, Kurtosis of X: {kurt_X}')\n",
    "print(f'Skewness of Y: {skew_Y}, Kurtosis of Y: {kurt_Y}')\n",
    "print(f'Skewness of Z: {skew_Z}, Kurtosis of Z: {kurt_Z}')\n"
   ]
  }
 ],
 "metadata": {
  "kernelspec": {
   "display_name": ".venv",
   "language": "python",
   "name": "python3"
  },
  "language_info": {
   "codemirror_mode": {
    "name": "ipython",
    "version": 3
   },
   "file_extension": ".py",
   "mimetype": "text/x-python",
   "name": "python",
   "nbconvert_exporter": "python",
   "pygments_lexer": "ipython3",
   "version": "3.10.12"
  }
 },
 "nbformat": 4,
 "nbformat_minor": 2
}
